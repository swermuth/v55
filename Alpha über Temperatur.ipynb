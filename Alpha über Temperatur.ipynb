{
 "cells": [
  {
   "cell_type": "code",
   "execution_count": 1,
   "metadata": {
    "collapsed": true
   },
   "outputs": [],
   "source": [
    "path= '\\\\Users\\\\stell\\\\OneDrive\\\\Dokumente\\\\fp55\\\\Daten\\\\'\n",
    "path2='\\\\Users\\\\stell\\\\OneDrive\\\\Dokumente\\\\fp55\\\\Ergebnisse\\\\'\n",
    "\n",
    "import matplotlib.pyplot as plt\n",
    "import numpy as np\n",
    "from scipy.optimize import curve_fit\n",
    "%matplotlib inline"
   ]
  },
  {
   "cell_type": "code",
   "execution_count": 6,
   "metadata": {
    "collapsed": true
   },
   "outputs": [],
   "source": [
    "#Temperatur\n",
    "T=[40.0, 50.0, 60.0]\n",
    "Terror=0.5\n",
    "\n",
    "#Alpha bei den verschiedene Isotopen mit aufsteigender Temperatur\n",
    "D=[0.9999453458901577, 0.999944576607446, 0.9999452671024152]\n",
    "Derror=[4.173225122242458e-06, 8.887308614929645e-07, 5.76235733996966e-07]\n",
    "\n",
    "O17=[0.999989930381563, 0.9999909241217002, 0.9999902950421833]\n",
    "O17error=[1.398615130396565e-06, 2.954513619078817e-07, 5.66089874067562e-07]\n",
    "\n",
    "O18=[0.9999789662505927 , 0.9999837793933443 , 0.9999820453944973 ]\n",
    "O18error=[1.7972370817960137e-06, 6.983624189459273e-07, 6.409721113517567e-07]"
   ]
  },
  {
   "cell_type": "code",
   "execution_count": 32,
   "metadata": {},
   "outputs": [
    {
     "data": {
      "image/png": "[encoded data removed]",
      "text/plain": [
       "<matplotlib.figure.Figure at 0x21805f92c50>"
      ]
     },
     "metadata": {},
     "output_type": "display_data"
    }
   ],
   "source": [
    "plt.plot(T, D, 'ro', label='D')\n",
    "plt.errorbar (T, D, xerr=Terror, yerr=Derror, linestyle='None')\n",
    "\n",
    "plt.plot(T, O17, 'bo', label='17O')\n",
    "plt.errorbar (T, O17, xerr=Terror, yerr=O17error, linestyle='None')\n",
    "\n",
    "plt.plot(T, O18, 'yo', label='18O')\n",
    "plt.ylim(0.99994, 0.999998)\n",
    "plt.errorbar (T, O18, xerr=Terror, yerr=O18error, linestyle='None')\n",
    "\n",
    "plt.ylabel('Alpha')\n",
    "plt.xlabel('Temperatur in °Celcius')\n",
    "plt.legend()\n",
    "plt.title('Abb. 21 - Temperaturverlauf von Alpha')\n",
    "plt.savefig(path2+'Abb21.png')"
   ]
  },
  {
   "cell_type": "code",
   "execution_count": null,
   "metadata": {
    "collapsed": true
   },
   "outputs": [],
   "source": []
  }
 ],
 "metadata": {
  "kernelspec": {
   "display_name": "Python 3",
   "language": "python",
   "name": "python3"
  },
  "language_info": {
   "codemirror_mode": {
    "name": "ipython",
    "version": 3
   },
   "file_extension": ".py",
   "mimetype": "text/x-python",
   "name": "python",
   "nbconvert_exporter": "python",
   "pygments_lexer": "ipython3",
   "version": "3.6.0"
  }
 },
 "nbformat": 4,
 "nbformat_minor": 2
}
