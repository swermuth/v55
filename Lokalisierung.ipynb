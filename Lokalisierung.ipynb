{
 "cells": [
  {
   "cell_type": "code",
   "execution_count": 28,
   "metadata": {
    "collapsed": true
   },
   "outputs": [],
   "source": [
    "path= '\\\\Users\\\\stell\\\\OneDrive\\\\Dokumente\\\\fp55\\\\Daten\\\\'\n",
    "path2='\\\\Users\\\\stell\\\\OneDrive\\\\Dokumente\\\\fp55\\\\Ergebnisse\\\\'\n",
    "\n",
    "import matplotlib.pyplot as plt\n",
    "import numpy as np\n",
    "from scipy.optimize import curve_fit\n",
    "%matplotlib inline"
   ]
  },
  {
   "cell_type": "code",
   "execution_count": 29,
   "metadata": {
    "collapsed": true
   },
   "outputs": [],
   "source": [
    "data=np.genfromtxt(path+'tlwia2018-07-24_f0001-Replicate.txt', skip_header=4, skip_footer=7) #Daten importieren"
   ]
  },
  {
   "cell_type": "code",
   "execution_count": 30,
   "metadata": {},
   "outputs": [
    {
     "data": {
      "text/plain": [
       "array([0.013, 0.054, 0.011, 0.   , 0.065, 0.05 , 0.175])"
      ]
     },
     "execution_count": 30,
     "metadata": {},
     "output_type": "execute_result"
    }
   ],
   "source": [
    "#Daten inkl. Fehler auslesen\n",
    "name=data[:,0]\n",
    "\n",
    "D=data[:,1] #Deuterium\n",
    "Derror=data[:,2]\n",
    "np.nan_to_num(Derror, copy=False) #wegen zu wenig Daten kann für einen Wert kein Fehler berechnet werden, dieser wird durch 0 ersetz\n",
    "\n",
    "O18=data[:,3]\n",
    "O18error=data[:,4]\n",
    "np.nan_to_num(O18error, copy=False)"
   ]
  },
  {
   "cell_type": "markdown",
   "metadata": {},
   "source": [
    "Als nächstes kommen die verschiedenen Proben und die Delta-Werte. Die sollen dann mit der Tabelle verglichen werden und lokalisiert werden. Die genauen Fragen findest du in der Anteilung S. 44 Nr. 6.4 (akutalisierte Version, die wir per Mail bekommen haben.)"
   ]
  },
  {
   "cell_type": "code",
   "execution_count": 31,
   "metadata": {},
   "outputs": [
    {
     "name": "stdout",
     "output_type": "stream",
     "text": [
      "Probe Stella mit δ D = -59.093 +/- 0.549 ‰ und δ 18O = -8.368 +/- 0.019 ‰\n"
     ]
    }
   ],
   "source": [
    "#eigene Probe\n",
    "print(\"Probe Stella mit \\u03B4 D =\", D[0], \"+/-\", Derror[0], \"‰ und \\u03B4 18O =\", O18[0], \"+/-\", O18error[0], \"‰\")"
   ]
  },
  {
   "cell_type": "code",
   "execution_count": 32,
   "metadata": {},
   "outputs": [
    {
     "name": "stdout",
     "output_type": "stream",
     "text": [
      "Probe W058 mit δ D = -67.565 +/- 0.02 ‰ und δ 18O = -9.515 +/- 0.101 ‰\n"
     ]
    }
   ],
   "source": [
    "#W058\n",
    "print(\"Probe W058 mit \\u03B4 D =\", D[1], \"+/-\", Derror[1], \"‰ und \\u03B4 18O =\", O18[1], \"+/-\", O18error[1], \"‰\")"
   ]
  },
  {
   "cell_type": "code",
   "execution_count": 33,
   "metadata": {},
   "outputs": [
    {
     "name": "stdout",
     "output_type": "stream",
     "text": [
      "Probe W076 mit δ D = -45.031 +/- 0.185 ‰ und δ 18O = -6.892 +/- 0.105 ‰\n"
     ]
    }
   ],
   "source": [
    "#W076\n",
    "print(\"Probe W076 mit \\u03B4 D =\", D[2], \"+/-\", Derror[2], \"‰ und \\u03B4 18O =\", O18[2], \"+/-\", O18error[2], \"‰\")"
   ]
  },
  {
   "cell_type": "code",
   "execution_count": 34,
   "metadata": {},
   "outputs": [
    {
     "name": "stdout",
     "output_type": "stream",
     "text": [
      "Probe W075 mit δ D = -95.441 +/- 0.0 ‰ und δ 18O = -13.195 +/- 0.0 ‰\n"
     ]
    }
   ],
   "source": [
    "#W075\n",
    "print(\"Probe W075 mit \\u03B4 D =\", D[3], \"+/-\", Derror[3], \"‰ und \\u03B4 18O =\", O18[3], \"+/-\", O18error[3], \"‰\")"
   ]
  },
  {
   "cell_type": "code",
   "execution_count": 35,
   "metadata": {},
   "outputs": [
    {
     "name": "stdout",
     "output_type": "stream",
     "text": [
      "Probe W074 mit δ D = -49.479 +/- 0.376 ‰ und δ 18O = -7.518 +/- 0.036 ‰\n"
     ]
    }
   ],
   "source": [
    "#W074, nicht aus Europa\n",
    "print(\"Probe W074 mit \\u03B4 D =\", D[4], \"+/-\", Derror[4], \"‰ und \\u03B4 18O =\", O18[4], \"+/-\", O18error[4], \"‰\")"
   ]
  },
  {
   "cell_type": "code",
   "execution_count": 36,
   "metadata": {},
   "outputs": [
    {
     "name": "stdout",
     "output_type": "stream",
     "text": [
      "Probe W007 mit δ D = -63.024 +/- 0.488 ‰ und δ 18O = -9.515 +/- 0.053 ‰\n"
     ]
    }
   ],
   "source": [
    "#W007, nicht aus Europa\n",
    "print(\"Probe W007 mit \\u03B4 D =\", D[5], \"+/-\", Derror[5], \"‰ und \\u03B4 18O =\", O18[5], \"+/-\", O18error[5], \"‰\")"
   ]
  },
  {
   "cell_type": "code",
   "execution_count": 37,
   "metadata": {},
   "outputs": [
    {
     "name": "stdout",
     "output_type": "stream",
     "text": [
      "Probe W075 mit δ D = -59.516 +/- 0.17 ‰ und δ 18O = -8.894 +/- 0.309 ‰\n"
     ]
    }
   ],
   "source": [
    "#W018, nicht aus Europa\n",
    "print(\"Probe W075 mit \\u03B4 D =\", D[6], \"+/-\", Derror[6], \"‰ und \\u03B4 18O =\", O18[6], \"+/-\", O18error[6], \"‰\")"
   ]
  }
 ],
 "metadata": {
  "kernelspec": {
   "display_name": "Python 3",
   "language": "python",
   "name": "python3"
  },
  "language_info": {
   "codemirror_mode": {
    "name": "ipython",
    "version": 3
   },
   "file_extension": ".py",
   "mimetype": "text/x-python",
   "name": "python",
   "nbconvert_exporter": "python",
   "pygments_lexer": "ipython3",
   "version": "3.6.0"
  }
 },
 "nbformat": 4,
 "nbformat_minor": 2
}
